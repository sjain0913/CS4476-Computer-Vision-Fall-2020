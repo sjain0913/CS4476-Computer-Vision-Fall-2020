{
 "cells": [
  {
   "cell_type": "markdown",
   "metadata": {},
   "source": [
    "# Short tutorial for Jupyter Notebooks\n",
    "\n",
    "This notebook guides the user through using Jupyter notebooks for this assignment. It is intended towards beginners and is meant to be an introduction. It is **not** a comprehensive breakdown of all the features of Jupyter Notebooks and does not explain their inner workings. "
   ]
  },
  {
   "cell_type": "markdown",
   "metadata": {},
   "source": [
    "Jupyter Notebooks consist of cell blocks. Each of these cell blocks can hold code, markdown, and Raw NBConvert. This is a Markdown cell. \n",
    "\n",
    "Each cell can be in two modes of operation:\n",
    "\n",
    "1. Command mode: \n",
    "\n",
    "In command mode, the cell is just selected and there is no blinking cursor in the cell. From here you can change cell types, add new cells, delete cells etc. To go into command mode, click a cell on the left side margin.    <br />\n",
    "\n",
    "\n",
    "2. Edit mode:\n",
    "\n",
    "When the cell is in Edit mode, you should see a blinking cursor in the cell. In this mode, you can edit the contents of the cell. To edit a code cell, click the cell body and begin typing. To edit a Markdown cell, click the cell body twice.  <br />   <br />\n",
    "\n",
    "You can switch a cell from Edit mode to Command mode by pressing the `Esc` key. Press the `Enter` key to switch between Command mode and Edit mode. \n",
    "\n",
    "You should **not** modify Raw NBConvert cells."
   ]
  },
  {
   "cell_type": "code",
   "execution_count": 2,
   "metadata": {},
   "outputs": [],
   "source": [
    "# This is a code cell. "
   ]
  },
  {
   "cell_type": "markdown",
   "metadata": {},
   "source": [
    "To change a markdown cell to a code cell, press `Y` in Command mode. \n",
    "\n",
    "Change the following marksdown cell to a code cell."
   ]
  },
  {
   "cell_type": "markdown",
   "metadata": {},
   "source": [
    "### Markdown cell\n",
    "print(\"Hello!\")"
   ]
  },
  {
   "cell_type": "markdown",
   "metadata": {},
   "source": [
    "To conver it back to Markdown, press `M` in command mode. "
   ]
  },
  {
   "cell_type": "markdown",
   "metadata": {},
   "source": [
    "You can run each cell in 3 ways:\n",
    "\n",
    "1. Press `Shift + Enter`: This will run the selected cell and select the next cell. If it is the last cell in the notebook, it will create a new Code cell and select it.\n",
    "\n",
    "2. Press `Ctrl + Enter`: This will run the select cell and not move to the next one. \n",
    "\n",
    "3. You can select an option from the \"Cell\" dropwdown at the top. <br />   <br />"
   ]
  },
  {
   "cell_type": "code",
   "execution_count": 4,
   "metadata": {},
   "outputs": [],
   "source": [
    "import numpy as np"
   ]
  },
  {
   "cell_type": "markdown",
   "metadata": {},
   "source": [
    "Let's see the result of the follwing cell:"
   ]
  },
  {
   "cell_type": "code",
   "execution_count": 5,
   "metadata": {},
   "outputs": [
    {
     "data": {
      "text/plain": [
       "array([ 5, 10, 15, 20, 25])"
      ]
     },
     "execution_count": 5,
     "metadata": {},
     "output_type": "execute_result"
    }
   ],
   "source": [
    "a = np.array([1, 2, 3, 4, 5])\n",
    "b = 5\n",
    "a*b"
   ]
  },
  {
   "cell_type": "markdown",
   "metadata": {},
   "source": [
    "As you can see, running a code cell is almost exactly like pasting the code snippet into file and running it. However, there is one important difference with Jupyter Notebooks."
   ]
  },
  {
   "cell_type": "markdown",
   "metadata": {},
   "source": [
    "## Out-of-order execution\n",
    "\n",
    "In Jupyter notebooks, you can run pieces of code out-of-order unlike in a Python script. What this means is that you could run the cells of a notebook in any order. <br />   <br />\n",
    "\n",
    "This can be done because the kernel saves all the variables and functions that have been defined in memory. So if you were to create a function and run the cell, but later change your mind and delete it, the function will still persist in memory and you can still make calls to it.   <br />   <br />\n",
    "\n",
    "Often this leads to bad references to functions and variables. To check for this, you can save the notebook `Ctrl + S`, and click on \"Kernel\" in the top menu. Select \"Restart & Run All\". This will restart the kernel and run all cells in order. <br />   <br />\n",
    "\n",
    "Let's see an example of when out-of-order execution can lead to unexpected/problematic behaviour."
   ]
  },
  {
   "cell_type": "code",
   "execution_count": 8,
   "metadata": {},
   "outputs": [
    {
     "data": {
      "text/plain": [
       "array([ 6, 12, 18, 24, 30])"
      ]
     },
     "execution_count": 8,
     "metadata": {},
     "output_type": "execute_result"
    }
   ],
   "source": [
    "a*b    #Gives the same result as before"
   ]
  },
  {
   "cell_type": "code",
   "execution_count": 7,
   "metadata": {},
   "outputs": [],
   "source": [
    "b += 1  #Run the previous cell again. You will see a different output. "
   ]
  },
  {
   "cell_type": "code",
   "execution_count": 12,
   "metadata": {},
   "outputs": [
    {
     "data": {
      "text/plain": [
       "array([ 3,  6,  9, 12, 15])"
      ]
     },
     "execution_count": 12,
     "metadata": {},
     "output_type": "execute_result"
    }
   ],
   "source": [
    "a * c #This will throw an error the first time you run it."
   ]
  },
  {
   "cell_type": "code",
   "execution_count": 11,
   "metadata": {},
   "outputs": [],
   "source": [
    "c = 3   # Run this and run the previous cell again. It will produce the result of a * 3. "
   ]
  },
  {
   "cell_type": "markdown",
   "metadata": {},
   "source": [
    "## Manipulating cells\n",
    "\n",
    "In command mode, if you press:\n",
    "\n",
    "\n",
    "Should remember:\n",
    "\n",
    "- `A`:a new cell will be created above the current one. \n",
    "- `B`: new cell created bellow the current one. \n",
    "- `D, D`: Press `D` twice to delete a cell.   <br />   <br />\n",
    "\n",
    "Good to know:\n",
    "- `C`: Copy a cell\n",
    "- `V`: Paste a cell\n",
    "- `X`: Cut a cell\n",
    "- `Z`: Undo cell manipulation. \n",
    "\n",
    "Often I will just cut a cell instead of deleting it because it is just one key press. \n",
    "\n",
    "You can also use arrow keys to navigate in Command mode.\n",
    "\n",
    "Try adding cells above and below this one."
   ]
  },
  {
   "cell_type": "markdown",
   "metadata": {},
   "source": [
    "## Running Terminal commands\n",
    "\n",
    "Jupyter notebooks support running terminal commands within code cells. To do so, preface your terminal command with an `!`."
   ]
  },
  {
   "cell_type": "code",
   "execution_count": 13,
   "metadata": {},
   "outputs": [
    {
     "name": "stdout",
     "output_type": "stream",
     "text": [
      "Hello World!\r\n"
     ]
    }
   ],
   "source": [
    "!echo \"Hello World!\""
   ]
  },
  {
   "cell_type": "markdown",
   "metadata": {},
   "source": [
    "## Helpful things to remember\n",
    "\n",
    "\n",
    "You can, at anytime, press `Ctrl+Shift+P` to pull up the command palette. You can also search through the command palette. <br />   <br />\n",
    "\n",
    "\n",
    "\n",
    "\n",
    "To view Keyboard Shortcuts, you can press `H` in command mode. This contains a comprehensive list of all the commands you can run using keyboard shortcuts in Command mode and Edit modes.   <br />   <br />\n",
    "\n",
    "You can interrupt a cell execution by pressing `I, I` i.e. pressing `I` twice while in command mode. "
   ]
  },
  {
   "cell_type": "markdown",
   "metadata": {},
   "source": [
    "## Fin.\n",
    "\n",
    "You are welcome to experiment in this notebook and play around with it. You don't have to submit it. Hopefully, it has helped you get a bit familiar with Jupyter notebooks. \n",
    "\n",
    "If you have any suggestions or feedback for improving it, please let us know."
   ]
  }
 ],
 "metadata": {
  "kernelspec": {
   "display_name": "Python 3",
   "language": "python",
   "name": "python3"
  },
  "language_info": {
   "codemirror_mode": {
    "name": "ipython",
    "version": 3
   },
   "file_extension": ".py",
   "mimetype": "text/x-python",
   "name": "python",
   "nbconvert_exporter": "python",
   "pygments_lexer": "ipython3",
   "version": "3.8.2"
  }
 },
 "nbformat": 4,
 "nbformat_minor": 4
}
